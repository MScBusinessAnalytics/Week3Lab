{
 "cells": [
  {
   "cell_type": "markdown",
   "metadata": {
    "cell_id": "00001-f9f152cc-d6ad-4741-b838-4c6fab6abbba",
    "deepnote_cell_type": "markdown",
    "tags": []
   },
   "source": [
    "# 02-Advanced: Data analysis\n",
    "For these exercises we are going to do some text and more advanced analysis."
   ]
  },
  {
   "cell_type": "markdown",
   "metadata": {
    "cell_id": "00001-70d86720-3538-4f91-8276-9a4e7e3c5da2",
    "deepnote_cell_type": "markdown",
    "tags": []
   },
   "source": [
    "## Text data\n",
    "Often we will need to work with unstructured data like text, images, or audio. To use unstructured data in analyis, we will often need to convert it into something more useable, something more \"quantified\".\n",
    "\n",
    "Let's start easy by loading a `.csv` file containing some text data we plan to analyse. Run the code below to load `reviews_sample.csv`."
   ]
  },
  {
   "cell_type": "code",
   "execution_count": null,
   "metadata": {
    "cell_id": "00002-1634df66-c1d5-45d5-ab5d-9000f2403efd",
    "deepnote_cell_type": "code",
    "deepnote_to_be_reexecuted": false,
    "execution_millis": 516,
    "execution_start": 1633510549583,
    "source_hash": "9416d4fc",
    "tags": []
   },
   "outputs": [],
   "source": [
    "import pandas as pd\n",
    "df_reviews = pd.read_csv('../data/reviews_sample.csv')\n",
    "df_reviews.head()"
   ]
  },
  {
   "cell_type": "markdown",
   "metadata": {
    "cell_id": "00003-288e7094-680c-4292-bf1e-b730185e7cba",
    "deepnote_cell_type": "markdown",
    "tags": []
   },
   "source": [
    "### Exercise-01: Cleaning text\n",
    "We want to analyse the `comments` column, but we first need to remove rows with `nan` values in the `comments` column. Use what you learned in `01-Basic.ipynb` to do this below."
   ]
  },
  {
   "cell_type": "code",
   "execution_count": null,
   "metadata": {
    "cell_id": "00004-4673738a-93e7-4134-ae6e-22998be22e2d",
    "deepnote_cell_type": "code",
    "deepnote_to_be_reexecuted": false,
    "execution_millis": 8,
    "execution_start": 1633510550110,
    "source_hash": "ceb90d56",
    "tags": []
   },
   "outputs": [],
   "source": [
    "# (SOLUTION)\n"
   ]
  },
  {
   "cell_type": "markdown",
   "metadata": {
    "cell_id": "00005-93c7f454-b595-40a0-a6c6-c189b129d9bc",
    "deepnote_cell_type": "markdown",
    "tags": []
   },
   "source": [
    "### Exercise-02: Analysing text\n",
    "Now the text data is cleaned, we are going to convert the text to quantities of interest. A common way to do this is to estimate the *sentiment* of the text. There are many ways to analyse sentiment, and here we are going to use the [VADER](https://www.nltk.org/_modules/nltk/sentiment/vader.html) sentiment analytics tool which is included in the [NLTK](https://www.nltk.org/) (Natural Language Toolkit) package.\n",
    "\n",
    "Run the code below to import `nltk`, import the `SentimentIntensityAnalyzer` class from `nltk`, download the `vader_lexicon`, and create an instance of `SentimentIntensityAnalyzer`."
   ]
  },
  {
   "cell_type": "code",
   "execution_count": null,
   "metadata": {
    "cell_id": "00006-88f0f313-da50-4de2-8c59-b91ceda052e9",
    "deepnote_cell_type": "code",
    "deepnote_to_be_reexecuted": false,
    "execution_millis": 1831,
    "execution_start": 1633510550168,
    "source_hash": "307a976d",
    "tags": []
   },
   "outputs": [],
   "source": [
    "import nltk\n",
    "from nltk.sentiment.vader import SentimentIntensityAnalyzer\n",
    "nltk.download('vader_lexicon')\n",
    "scorer = SentimentIntensityAnalyzer()"
   ]
  },
  {
   "cell_type": "markdown",
   "metadata": {
    "cell_id": "00006-2e37548c-c4e9-48bb-9088-4f3a793e0499",
    "deepnote_cell_type": "markdown",
    "tags": []
   },
   "source": [
    "Now we have loaded our sentiment analysis tool, we can calculate the sentiment of the comments in the Airbnb reviews. To do this, we are going to create a `calculate_sentiment` function and then apply it to a small sample (`N=5`) of rows from `df_reviews`. To focus our attention on the columns `['comments','sentiment']` we are going to show only those in the `head()` of `df_reviews_sample`. Please run the code below and watch the magic happen!"
   ]
  },
  {
   "cell_type": "code",
   "execution_count": null,
   "metadata": {
    "cell_id": "00008-3d2d2f75-8993-4673-ae50-ccd7bef43b8a",
    "deepnote_cell_type": "code",
    "deepnote_to_be_reexecuted": false,
    "execution_millis": 60,
    "execution_start": 1633510552007,
    "source_hash": "5d36530c",
    "tags": []
   },
   "outputs": [],
   "source": [
    "def calculate_sentiment(comment):\n",
    "    return(scorer.polarity_scores(comment)['compound'])\n",
    "\n",
    "N = 5\n",
    "df_reviews_sample = df_reviews.sample(N)\n",
    "df_reviews_sample.loc[:,'sentiment'] = df_reviews_sample['comments'].apply(calculate_sentiment)\n",
    "df_reviews_sample[['comments','sentiment']].head()"
   ]
  },
  {
   "cell_type": "markdown",
   "metadata": {
    "cell_id": "00009-9ff1b9ac-aee6-482e-82e5-dfa41f358959",
    "deepnote_cell_type": "markdown",
    "tags": []
   },
   "source": [
    "Run the above code a few times, to get a feel for how the sentiment analysis tool is working. Is there anything unexpected/interesting?"
   ]
  },
  {
   "cell_type": "markdown",
   "metadata": {
    "cell_id": "00001-d2b6a883-b571-449b-83d3-2f0379123a4e",
    "deepnote_cell_type": "markdown",
    "tags": []
   },
   "source": [
    "## Segmented data\n",
    "Sometimes we want to perform analysis on only a segment on the data. For example, someone might ask *what is the most expensive listing in London?*, and to solve this we would only need to analysis data for listings based in London.\n",
    "\n",
    "To explore this idea, let's analyse some segments of the `listings_sample.csv` data. Run the code below to load `listings_sample.csv`."
   ]
  },
  {
   "cell_type": "code",
   "execution_count": null,
   "metadata": {
    "cell_id": "00002-38d1fa1d-4b4c-47a0-9455-637abde65d4a",
    "deepnote_cell_type": "code",
    "deepnote_to_be_reexecuted": false,
    "execution_millis": 832,
    "execution_start": 1633510552063,
    "source_hash": "f5e2616a",
    "tags": []
   },
   "outputs": [],
   "source": [
    "import pandas as pd\n",
    "df_listings = pd.read_csv('../data/listings_sample.csv')\n",
    "df_listings.head()"
   ]
  },
  {
   "cell_type": "markdown",
   "metadata": {
    "cell_id": "00013-7d435d32-23a9-4455-b13f-cd971bae9808",
    "deepnote_cell_type": "markdown",
    "tags": []
   },
   "source": [
    "Let's assume we want to segment the listings by `room_type`. First, let's take a quick look at how many listings of each `room_type` there are in `df_listings`. To do this, we can use the `value_counts()` method. Please run the code below."
   ]
  },
  {
   "cell_type": "code",
   "execution_count": null,
   "metadata": {
    "cell_id": "00003-589ec3dd-36ab-40c1-90ad-860a97e56620",
    "deepnote_cell_type": "code",
    "deepnote_to_be_reexecuted": false,
    "execution_millis": 31,
    "execution_start": 1633510552905,
    "source_hash": "97e6acc6",
    "tags": []
   },
   "outputs": [],
   "source": [
    "df_listings['room_type'].value_counts().head()"
   ]
  },
  {
   "cell_type": "markdown",
   "metadata": {
    "cell_id": "00002-b862573b-05d6-4559-94cf-493bfabfadf4",
    "deepnote_cell_type": "markdown",
    "tags": []
   },
   "source": [
    "### Exercise-03: Identify luxury homes\n",
    "You are a business analyst at a company which a business development manager who asks you to identify the 5 most expensive listings which are entire homes/apartments.\n",
    "\n",
    "To do this, you first need to create a new `price_$` column in `df_listings` like we did in `01-Basic.ipynb`. Please do that using the `format_price` function written below."
   ]
  },
  {
   "cell_type": "code",
   "execution_count": null,
   "metadata": {
    "cell_id": "00015-e16a4998-d0e0-4f43-9f4a-62c9c48ee484",
    "deepnote_cell_type": "code",
    "deepnote_to_be_reexecuted": false,
    "execution_millis": 58,
    "execution_start": 1633510552964,
    "source_hash": "1c897ce6",
    "tags": []
   },
   "outputs": [],
   "source": [
    "def format_price(price):\n",
    "    return(float(price.replace('$','').replace(',','')))\n",
    "\n",
    "# (SOLUTION)\n"
   ]
  },
  {
   "cell_type": "markdown",
   "metadata": {
    "cell_id": "00016-05dd5e08-bffb-4942-9ca2-b8d8f0e55f9c",
    "deepnote_cell_type": "markdown",
    "tags": []
   },
   "source": [
    "Now we have price values in a format we can use, we can segment the data and run our analysis to meet the manager's request. To do this, we will:\n",
    "\n",
    "1. Segment `df_listings` to create a new `DataFrame` named `df_entire_home_apt` which contains only listings with `room_type` equal to `Entire home/apt`.\n",
    "2. Sort the rows of `df_entire_home_apt` by the values in `price_$` from largest (most expensive) to smallest (cheapest).\n",
    "3. Display the top 5 rows to show columns we think most relevant for the 5 most expensive listings which are entire homes/apartments.\n",
    "\n",
    "We will do all this by running only the 3 lines of code shown below. Please run the code."
   ]
  },
  {
   "cell_type": "code",
   "execution_count": null,
   "metadata": {
    "cell_id": "00005-c178ce40-626a-4f1e-a5c5-bae461aca1c3",
    "deepnote_cell_type": "code",
    "deepnote_to_be_reexecuted": false,
    "execution_millis": 75,
    "execution_start": 1633510553008,
    "source_hash": "129ca33c",
    "tags": []
   },
   "outputs": [],
   "source": [
    "df_entire_home_apt = df_listings[df_listings['room_type']=='Entire home/apt']\n",
    "df_entire_home_apt = df_entire_home_apt.sort_values(by=['price_$'],ascending=False)\n",
    "df_entire_home_apt[['id','name','description','neighbourhood','price_$']].head(5)"
   ]
  },
  {
   "cell_type": "markdown",
   "metadata": {
    "cell_id": "00004-4fa624fe-6cd9-4e58-93eb-48dd59579c08",
    "deepnote_cell_type": "markdown",
    "tags": []
   },
   "source": [
    "### Exercise 04: Identify budget rooms\n",
    "the same business development manager now asks you to identify the 5 cheapest listings which are private rooms. Using the above exercise as a guide, run an analysis to meet the manager's request."
   ]
  },
  {
   "cell_type": "code",
   "execution_count": null,
   "metadata": {
    "cell_id": "00004-9098e09e-69e2-414a-b7ac-4fa3391d5686",
    "deepnote_cell_type": "code",
    "deepnote_to_be_reexecuted": false,
    "execution_millis": 49,
    "execution_start": 1633510553086,
    "source_hash": "f2cc5168",
    "tags": []
   },
   "outputs": [],
   "source": [
    "# (SOLUTION)\n"
   ]
  },
  {
   "cell_type": "markdown",
   "metadata": {
    "cell_id": "00002-0c75d8a2-e584-4da0-98c2-0f13d8152dce",
    "deepnote_cell_type": "markdown",
    "tags": []
   },
   "source": [
    "## Advanced request\n",
    "Well done so far! Let's now take it too the next level! Let's used what we have learned so far to meet the following request:\n",
    "\n",
    "*Identify the 5 listings with highest positive mean sentiment of their reviews, such that the listings have at least 5 reviews less than 3 years old*"
   ]
  },
  {
   "cell_type": "markdown",
   "metadata": {
    "cell_id": "00002-7d28c2af-73d4-42d7-b2fb-dcbbb4652939",
    "deepnote_cell_type": "markdown",
    "tags": []
   },
   "source": [
    "### Exercise-05: Filter review data\n",
    "First we need to load `reviews_sample.csv` and filter it to only keep reviews with:\n",
    "1. values of not `nan` in the `comments` column,\n",
    "2. values less than 3 years old in the `date` column, and\n",
    "3. values in the `listing_id` column corresponding to listings with at least 5 reviews.\n",
    "\n",
    "This can all be done by running the following code."
   ]
  },
  {
   "cell_type": "code",
   "execution_count": null,
   "metadata": {
    "cell_id": "00000-6f9e41dc-39f8-462f-888c-92d2cc0ff357",
    "deepnote_cell_type": "code",
    "deepnote_to_be_reexecuted": false,
    "execution_millis": 508,
    "execution_start": 1633510553130,
    "source_hash": "f353607d",
    "tags": []
   },
   "outputs": [],
   "source": [
    "import pandas as pd\n",
    "df_reviews = pd.read_csv('../data/reviews_sample.csv')\n",
    "\n",
    "df_reviews = df_reviews[~df_reviews['comments'].isna()]\n",
    "\n",
    "df_reviews = df_reviews[df_reviews['date']>'2018-10-05']\n",
    "\n",
    "listing_counts = df_reviews['listing_id'].value_counts()\n",
    "valid_listings = listing_counts[listing_counts>=5].index\n",
    "df_reviews = df_reviews[df_reviews['listing_id'].isin(valid_listings)]"
   ]
  },
  {
   "cell_type": "markdown",
   "metadata": {
    "cell_id": "00023-60af850b-2d2e-421a-9247-4aeaa401d6ea",
    "deepnote_cell_type": "markdown",
    "tags": []
   },
   "source": [
    "We can do a \"sanity check\" by running the code below, which should all produce value `0`. Consider how you might use such test to check your code as you develop it."
   ]
  },
  {
   "cell_type": "code",
   "execution_count": null,
   "metadata": {
    "cell_id": "00024-511e6b18-e2f2-4406-9244-fb00370ff859",
    "deepnote_cell_type": "code",
    "deepnote_to_be_reexecuted": false,
    "execution_millis": 86,
    "execution_start": 1633510650116,
    "source_hash": "e03d4b06",
    "tags": []
   },
   "outputs": [],
   "source": [
    "print(sum(df_reviews['comments'].isna()))\n",
    "print(sum(df_reviews['date']<='2018-10-05'))\n",
    "print(sum(df_reviews['listing_id'].value_counts()<5))"
   ]
  },
  {
   "cell_type": "markdown",
   "metadata": {
    "cell_id": "00023-f33b4ce0-222e-47d4-af7b-19dfd829b4f0",
    "deepnote_cell_type": "markdown",
    "tags": []
   },
   "source": [
    "### Exercise-06: Analyse review data\n",
    "We already have most of the pieces we need. Simply `apply` the `calculate_sentiment` function (in the way we did before) to the `comments` column of the (now filtered) `df_reviews` to create a new column named `sentiment` containing the a sentiment value for each reviews comment. Please write the code below and run.\n",
    "\n",
    "(Note that we are no running the `calculate_sentiment` over every row in the filtered `df_reviews` so it might take a while longer...)"
   ]
  },
  {
   "cell_type": "code",
   "execution_count": null,
   "metadata": {
    "cell_id": "00003-9d0b5a27-934f-4498-a97c-1dc8a75b26f0",
    "deepnote_cell_type": "code",
    "deepnote_to_be_reexecuted": false,
    "execution_millis": 12428,
    "execution_start": 1633510553704,
    "source_hash": "9a409e5f",
    "tags": []
   },
   "outputs": [],
   "source": [
    "# SOLUTION\n"
   ]
  },
  {
   "cell_type": "markdown",
   "metadata": {
    "cell_id": "00005-2e327721-cef6-445c-bd4d-73907ceecc87",
    "deepnote_cell_type": "markdown",
    "tags": []
   },
   "source": [
    "Next we need to calculate the mean sentiment for each listing. To do this, we use the `groupby` and `agg` methods on the following way to create a new `DataFrame` named `listing_scored` containing each `listings_id` and the `mean` of its `sentiment` scores. Please run the code below."
   ]
  },
  {
   "cell_type": "code",
   "execution_count": null,
   "metadata": {
    "cell_id": "00007-1560c73a-737a-46e3-a62b-b38601b3ddda",
    "deepnote_cell_type": "code",
    "deepnote_to_be_reexecuted": false,
    "execution_millis": 47,
    "execution_start": 1633510566127,
    "source_hash": "76c3be3f",
    "tags": []
   },
   "outputs": [],
   "source": [
    "listings_scored = df_reviews.groupby('listing_id')['sentiment'].agg(['mean']).reset_index()\n",
    "listings_scored.head()"
   ]
  },
  {
   "cell_type": "markdown",
   "metadata": {
    "cell_id": "00011-4c49117b-bd28-4c19-946a-dcaa92e4838b",
    "deepnote_cell_type": "markdown",
    "tags": []
   },
   "source": [
    "Finally, we just need to sort the listings in `listings_scored` by their `mean` value (from high to low) and print the top 5. Easy, you've got this! Please use what you've learned before to do this below."
   ]
  },
  {
   "cell_type": "code",
   "execution_count": null,
   "metadata": {
    "cell_id": "00030-f0ac8274-db95-4bb4-aac8-53714e767555",
    "deepnote_cell_type": "code",
    "deepnote_to_be_reexecuted": false,
    "execution_millis": 39,
    "execution_start": 1633510566163,
    "source_hash": "79003250",
    "tags": []
   },
   "outputs": [],
   "source": [
    "# SOLUTION\n"
   ]
  },
  {
   "cell_type": "markdown",
   "metadata": {
    "cell_id": "00031-07f63de9-ebc3-4dcf-953e-f795dc43d59e",
    "deepnote_cell_type": "markdown",
    "tags": []
   },
   "source": [
    "## Inspect results\n",
    "Have a play around with the above code. Maybe try to fetch and inspect the reviews of the listings with high and low sentiment socres, and see what types of listings these are.\n",
    "\n",
    "Or, if you've found this notebook too easy, have a go at `03-Expert.ipynb`."
   ]
  },
  {
   "cell_type": "markdown",
   "metadata": {
    "created_in_deepnote_cell": true,
    "deepnote_cell_type": "markdown",
    "tags": []
   },
   "source": [
    "<a style='text-decoration:none;line-height:16px;display:flex;color:#5B5B62;padding:10px;justify-content:end;' href='https://deepnote.com?utm_source=created-in-deepnote-cell&projectId=2c6f047c-21a6-4149-814c-b3f60a9bf973' target=\"_blank\">\n",
    "<img alt='Created in deepnote.com' style='display:inline;max-height:16px;margin:0px;margin-right:7.5px;' src='data:image/svg+xml;base64,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' > </img>\n",
    "Created in <span style='font-weight:600;margin-left:4px;'>Deepnote</span></a>"
   ]
  }
 ],
 "metadata": {
  "deepnote": {
   "is_reactive": false
  },
  "deepnote_execution_queue": [],
  "deepnote_notebook_id": "2bc253d8-5d82-4e43-b693-93ee90652da4",
  "kernelspec": {
   "display_name": "Python 3 (ipykernel)",
   "language": "python",
   "name": "python3"
  },
  "language_info": {
   "codemirror_mode": {
    "name": "ipython",
    "version": 3
   },
   "file_extension": ".py",
   "mimetype": "text/x-python",
   "name": "python",
   "nbconvert_exporter": "python",
   "pygments_lexer": "ipython3",
   "version": "3.7.9"
  }
 },
 "nbformat": 4,
 "nbformat_minor": 2
}
