{
 "cells": [
  {
   "cell_type": "markdown",
   "metadata": {
    "cell_id": "00000-cd14a2b9-8a6f-4690-9457-5f5995338df6",
    "deepnote_cell_type": "markdown",
    "tags": []
   },
   "source": [
    "# 01-Basic: Pandas essentials\n",
    "For these exercises, we are going to be using the [Pandas](https://pandas.pydata.org/about/) Python package, so the first thing to do is to import Pandas. To do this, click on the code block below and press the 'Run' button to the left."
   ]
  },
  {
   "cell_type": "code",
   "execution_count": 1,
   "metadata": {
    "cell_id": "00001-9463a7e8-ef49-4d86-a3fe-9348137f44b6",
    "deepnote_cell_type": "code",
    "deepnote_to_be_reexecuted": false,
    "execution_millis": 58657026,
    "execution_start": 1633510501425,
    "source_hash": "9b82ee11",
    "tags": []
   },
   "outputs": [],
   "source": [
    "import pandas as pd"
   ]
  },
  {
   "cell_type": "markdown",
   "metadata": {
    "cell_id": "00002-b05b3b8a-07f3-4c30-9165-fe7ba2820661",
    "deepnote_cell_type": "markdown",
    "tags": []
   },
   "source": [
    "## Creating data\n",
    "Pandas uses `DataFrame` to store and manipulate data. Run the code below to create a `DataFrame` using some simple test data. Here we have used the `head()` method to show (part of) the `DataFrame`."
   ]
  },
  {
   "cell_type": "code",
   "execution_count": 2,
   "metadata": {
    "cell_id": "00003-59fe9947-e87c-4b18-930a-f0ea44c1def7",
    "deepnote_cell_type": "code",
    "deepnote_to_be_reexecuted": false,
    "execution_millis": 12,
    "execution_start": 1633510501468,
    "source_hash": "459b66d0",
    "tags": []
   },
   "outputs": [
    {
     "data": {
      "text/html": [
       "<div>\n",
       "<style scoped>\n",
       "    .dataframe tbody tr th:only-of-type {\n",
       "        vertical-align: middle;\n",
       "    }\n",
       "\n",
       "    .dataframe tbody tr th {\n",
       "        vertical-align: top;\n",
       "    }\n",
       "\n",
       "    .dataframe thead th {\n",
       "        text-align: right;\n",
       "    }\n",
       "</style>\n",
       "<table border=\"1\" class=\"dataframe\">\n",
       "  <thead>\n",
       "    <tr style=\"text-align: right;\">\n",
       "      <th></th>\n",
       "      <th>A</th>\n",
       "      <th>B</th>\n",
       "      <th>C</th>\n",
       "    </tr>\n",
       "  </thead>\n",
       "  <tbody>\n",
       "    <tr>\n",
       "      <th>0</th>\n",
       "      <td>1</td>\n",
       "      <td>2</td>\n",
       "      <td>3.0</td>\n",
       "    </tr>\n",
       "    <tr>\n",
       "      <th>1</th>\n",
       "      <td>4</td>\n",
       "      <td>5</td>\n",
       "      <td>6.0</td>\n",
       "    </tr>\n",
       "    <tr>\n",
       "      <th>2</th>\n",
       "      <td>0.07</td>\n",
       "      <td>88.0</td>\n",
       "      <td>999.0</td>\n",
       "    </tr>\n",
       "  </tbody>\n",
       "</table>\n",
       "</div>"
      ],
      "text/plain": [
       "      A     B      C\n",
       "0     1     2    3.0\n",
       "1     4     5    6.0\n",
       "2  0.07  88.0  999.0"
      ]
     },
     "execution_count": 2,
     "metadata": {},
     "output_type": "execute_result"
    }
   ],
   "source": [
    "df_test = pd.DataFrame(data=[['1',2,3.0],[4,'5',6],[0.07,88.0,999]],columns=['A','B','C'])\n",
    "df_test.head()"
   ]
  },
  {
   "cell_type": "markdown",
   "metadata": {
    "cell_id": "00004-f6c9f591-859c-49e2-b176-2983cbb93b2b",
    "deepnote_cell_type": "markdown",
    "tags": []
   },
   "source": [
    "### Exercise-01: Heads and tails\n",
    "Try running the above code with `head()` replaced by `head(1)`, `head(2)`, and `head(3)`, respectively. Similarly, try running the above code with `head()` replaced by `tail(1)`, `tail(2)`, and `tail(3)`, respectively. What do `head()` and `tail()` do?"
   ]
  },
  {
   "cell_type": "markdown",
   "metadata": {
    "cell_id": "00005-34c55a85-e161-4660-8737-9feed320a8e6",
    "deepnote_cell_type": "markdown",
    "tags": []
   },
   "source": [
    "## Saving data\n",
    "Often it is useful to save data. For example, we can save the previous test data to a comma-separated values (`.csv`) file by running the following code. After you have run the code, identify *where* the file was saved (i.e. which folder?)."
   ]
  },
  {
   "cell_type": "code",
   "execution_count": 3,
   "metadata": {
    "cell_id": "00006-67536e63-1e63-420e-a63f-e498cb14682c",
    "deepnote_cell_type": "code",
    "deepnote_to_be_reexecuted": false,
    "execution_millis": 65,
    "execution_start": 1633510501470,
    "source_hash": "93a6ce11",
    "tags": []
   },
   "outputs": [],
   "source": [
    "df_test.to_csv('./test.csv')"
   ]
  },
  {
   "cell_type": "markdown",
   "metadata": {
    "cell_id": "00007-0248b9cd-89b9-4327-b36a-612071ee792e",
    "deepnote_cell_type": "markdown",
    "tags": []
   },
   "source": [
    "### Exercise-02: Parents and siblings\n",
    "Sometimes we need to save/load data not in the current directory. Run the code below to save the same test data to two other locations. After you have run the code, identify *where* the files were saved."
   ]
  },
  {
   "cell_type": "code",
   "execution_count": 4,
   "metadata": {
    "cell_id": "00008-b8617cee-ecb8-4827-9d45-cea4901e50d0",
    "deepnote_cell_type": "code",
    "deepnote_to_be_reexecuted": false,
    "execution_millis": 1,
    "execution_start": 1633510501536,
    "source_hash": "3b0213f1",
    "tags": []
   },
   "outputs": [],
   "source": [
    "df_test.to_csv('../test_parent.csv')\n",
    "df_test.to_csv('../data/test_sibling.csv')"
   ]
  },
  {
   "cell_type": "markdown",
   "metadata": {
    "cell_id": "00009-2785d7f1-f41a-43e9-9f4d-fe05b6ac259d",
    "deepnote_cell_type": "markdown",
    "tags": []
   },
   "source": [
    "Before we move on, let's clean up the mess you made! Run the code below to remove the test `.csv` files we just created."
   ]
  },
  {
   "cell_type": "code",
   "execution_count": 5,
   "metadata": {
    "cell_id": "00010-3eaf395d-cd3e-4f5d-83ba-364159146ab4",
    "deepnote_cell_type": "code",
    "deepnote_to_be_reexecuted": false,
    "execution_millis": 805,
    "execution_start": 1633510501538,
    "source_hash": "95261650",
    "tags": []
   },
   "outputs": [],
   "source": [
    "!rm ./test.csv\n",
    "!rm ../test_parent.csv\n",
    "!rm ../data/test_sibling.csv"
   ]
  },
  {
   "cell_type": "markdown",
   "metadata": {
    "cell_id": "00011-02636c07-9ec6-4270-8fee-193ea4139cab",
    "deepnote_cell_type": "markdown",
    "tags": []
   },
   "source": [
    "(Note that the above code uses `!` to run terminal commands from inside a notebook!) Cool, no?"
   ]
  },
  {
   "cell_type": "markdown",
   "metadata": {
    "cell_id": "00012-44adb987-bc9a-4e75-a1f7-f8f02306e2a9",
    "deepnote_cell_type": "markdown",
    "tags": []
   },
   "source": [
    "## Loading data\n",
    "Ok, let's get started with some *real* data. To work with real data, we first need to load it. If the data is in a `.csv` file then we can load the data simply using the Pandas `read_csv` function. Run the code below to load the `listings_sample.csv` data into a Pandas `DataFrame`."
   ]
  },
  {
   "cell_type": "code",
   "execution_count": 6,
   "metadata": {
    "cell_id": "00013-571dca19-a769-456c-b286-7d77ebcac8c6",
    "deepnote_cell_type": "code",
    "deepnote_to_be_reexecuted": false,
    "execution_millis": 414,
    "execution_start": 1633510502351,
    "source_hash": "f61d5314",
    "tags": []
   },
   "outputs": [
    {
     "data": {
      "text/html": [
       "<div>\n",
       "<style scoped>\n",
       "    .dataframe tbody tr th:only-of-type {\n",
       "        vertical-align: middle;\n",
       "    }\n",
       "\n",
       "    .dataframe tbody tr th {\n",
       "        vertical-align: top;\n",
       "    }\n",
       "\n",
       "    .dataframe thead th {\n",
       "        text-align: right;\n",
       "    }\n",
       "</style>\n",
       "<table border=\"1\" class=\"dataframe\">\n",
       "  <thead>\n",
       "    <tr style=\"text-align: right;\">\n",
       "      <th></th>\n",
       "      <th>host_id</th>\n",
       "      <th>id</th>\n",
       "      <th>name</th>\n",
       "      <th>room_type</th>\n",
       "      <th>price</th>\n",
       "    </tr>\n",
       "  </thead>\n",
       "  <tbody>\n",
       "    <tr>\n",
       "      <th>0</th>\n",
       "      <td>43039</td>\n",
       "      <td>11551</td>\n",
       "      <td>Arty and Bright London Apartment in Zone 2</td>\n",
       "      <td>Entire home/apt</td>\n",
       "      <td>$110.00</td>\n",
       "    </tr>\n",
       "    <tr>\n",
       "      <th>1</th>\n",
       "      <td>54730</td>\n",
       "      <td>13913</td>\n",
       "      <td>Holiday London DB Room Let-on going</td>\n",
       "      <td>Private room</td>\n",
       "      <td>$40.00</td>\n",
       "    </tr>\n",
       "    <tr>\n",
       "      <th>2</th>\n",
       "      <td>60302</td>\n",
       "      <td>15400</td>\n",
       "      <td>Bright Chelsea  Apartment. Chelsea!</td>\n",
       "      <td>Entire home/apt</td>\n",
       "      <td>$75.00</td>\n",
       "    </tr>\n",
       "    <tr>\n",
       "      <th>3</th>\n",
       "      <td>67564</td>\n",
       "      <td>17402</td>\n",
       "      <td>Superb 3-Bed/2 Bath &amp; Wifi: Trendy W1</td>\n",
       "      <td>Entire home/apt</td>\n",
       "      <td>$307.00</td>\n",
       "    </tr>\n",
       "    <tr>\n",
       "      <th>4</th>\n",
       "      <td>103583</td>\n",
       "      <td>25123</td>\n",
       "      <td>Clean big Room in London (Room 1)</td>\n",
       "      <td>Private room</td>\n",
       "      <td>$29.00</td>\n",
       "    </tr>\n",
       "  </tbody>\n",
       "</table>\n",
       "</div>"
      ],
      "text/plain": [
       "   host_id     id                                        name  \\\n",
       "0    43039  11551  Arty and Bright London Apartment in Zone 2   \n",
       "1    54730  13913         Holiday London DB Room Let-on going   \n",
       "2    60302  15400         Bright Chelsea  Apartment. Chelsea!   \n",
       "3    67564  17402       Superb 3-Bed/2 Bath & Wifi: Trendy W1   \n",
       "4   103583  25123           Clean big Room in London (Room 1)   \n",
       "\n",
       "         room_type    price  \n",
       "0  Entire home/apt  $110.00  \n",
       "1     Private room   $40.00  \n",
       "2  Entire home/apt   $75.00  \n",
       "3  Entire home/apt  $307.00  \n",
       "4     Private room   $29.00  "
      ]
     },
     "execution_count": 6,
     "metadata": {},
     "output_type": "execute_result"
    }
   ],
   "source": [
    "import pandas as pd\n",
    "df_listings = pd.read_csv('../data/listings_sample.csv', \n",
    "    usecols=['host_id','id','name','room_type','price'])\n",
    "df_listings.head()"
   ]
  },
  {
   "cell_type": "markdown",
   "metadata": {
    "cell_id": "00014-662dddb1-afb5-4829-8008-87842e34e71b",
    "deepnote_cell_type": "markdown",
    "tags": []
   },
   "source": [
    "The data you just loaded relates to real listings on [Airbnb](airbnb.com), sampled from a dataset from the [Inside Airbnb](http://insideairbnb.com/about.html) website. Note how the `usecols` argument was used to specify which columns of the data to load."
   ]
  },
  {
   "cell_type": "markdown",
   "metadata": {
    "cell_id": "00015-d3fb7183-c343-4156-be32-06cbf9158fdd",
    "deepnote_cell_type": "markdown",
    "tags": []
   },
   "source": [
    "### Exercise-03: Load host data\n",
    "Now it's time to try to load some data yourself. Using the code above as a guide, load the `hosts_sample.csv` file into a data-frame named `df_hosts` with columns `['id','host_name','host_since']`."
   ]
  },
  {
   "cell_type": "code",
   "execution_count": 7,
   "metadata": {
    "cell_id": "00016-c5cb6122-2dc8-491d-968b-c5501ed13917",
    "deepnote_cell_type": "code",
    "deepnote_to_be_reexecuted": false,
    "execution_millis": 121,
    "execution_start": 1633510502761,
    "source_hash": "b56348a0",
    "tags": []
   },
   "outputs": [
    {
     "data": {
      "text/html": [
       "<div>\n",
       "<style scoped>\n",
       "    .dataframe tbody tr th:only-of-type {\n",
       "        vertical-align: middle;\n",
       "    }\n",
       "\n",
       "    .dataframe tbody tr th {\n",
       "        vertical-align: top;\n",
       "    }\n",
       "\n",
       "    .dataframe thead th {\n",
       "        text-align: right;\n",
       "    }\n",
       "</style>\n",
       "<table border=\"1\" class=\"dataframe\">\n",
       "  <thead>\n",
       "    <tr style=\"text-align: right;\">\n",
       "      <th></th>\n",
       "      <th>id</th>\n",
       "      <th>host_name</th>\n",
       "      <th>host_since</th>\n",
       "    </tr>\n",
       "  </thead>\n",
       "  <tbody>\n",
       "    <tr>\n",
       "      <th>0</th>\n",
       "      <td>43039.0</td>\n",
       "      <td>Adriano</td>\n",
       "      <td>2009-10-03</td>\n",
       "    </tr>\n",
       "    <tr>\n",
       "      <th>1</th>\n",
       "      <td>54730.0</td>\n",
       "      <td>Alina</td>\n",
       "      <td>2009-11-16</td>\n",
       "    </tr>\n",
       "    <tr>\n",
       "      <th>2</th>\n",
       "      <td>60302.0</td>\n",
       "      <td>Philippa</td>\n",
       "      <td>2009-12-05</td>\n",
       "    </tr>\n",
       "    <tr>\n",
       "      <th>3</th>\n",
       "      <td>67564.0</td>\n",
       "      <td>Liz</td>\n",
       "      <td>2010-01-04</td>\n",
       "    </tr>\n",
       "    <tr>\n",
       "      <th>4</th>\n",
       "      <td>103583.0</td>\n",
       "      <td>Grace</td>\n",
       "      <td>2010-04-05</td>\n",
       "    </tr>\n",
       "  </tbody>\n",
       "</table>\n",
       "</div>"
      ],
      "text/plain": [
       "         id host_name  host_since\n",
       "0   43039.0   Adriano  2009-10-03\n",
       "1   54730.0     Alina  2009-11-16\n",
       "2   60302.0  Philippa  2009-12-05\n",
       "3   67564.0       Liz  2010-01-04\n",
       "4  103583.0     Grace  2010-04-05"
      ]
     },
     "execution_count": 7,
     "metadata": {},
     "output_type": "execute_result"
    }
   ],
   "source": [
    "# (SOLUTION)\n",
    "df_hosts = pd.read_csv('../data/hosts_sample.csv', usecols=['id','host_name','host_since'])\n",
    "df_hosts.head()"
   ]
  },
  {
   "cell_type": "markdown",
   "metadata": {
    "cell_id": "00017-536c8a81-df57-4de5-8736-9fceb39b74ee",
    "deepnote_cell_type": "markdown",
    "tags": []
   },
   "source": [
    "## Preparing data\n",
    "Often the data we load for analysis comes with values we cannot immediately work with, and we need to remove or format such (undefind) values to be able to do the analysis we want to do. \n",
    "\n",
    "For example, some of the hosts in `df_hosts` have undefind values in the `host_name` and/or `host_since` columns. We can see this by running the code below to show the rows in `df_hosts` where the value in `host_since` is `nan` (i.e. [not a number](https://en.wikipedia.org/wiki/NaN))."
   ]
  },
  {
   "cell_type": "code",
   "execution_count": 8,
   "metadata": {
    "cell_id": "00018-b902f5e6-c807-4210-93c4-fbc21da15e2e",
    "deepnote_cell_type": "code",
    "deepnote_to_be_reexecuted": false,
    "execution_millis": 52,
    "execution_start": 1633510502878,
    "source_hash": "ee385073",
    "tags": []
   },
   "outputs": [
    {
     "data": {
      "text/html": [
       "<div>\n",
       "<style scoped>\n",
       "    .dataframe tbody tr th:only-of-type {\n",
       "        vertical-align: middle;\n",
       "    }\n",
       "\n",
       "    .dataframe tbody tr th {\n",
       "        vertical-align: top;\n",
       "    }\n",
       "\n",
       "    .dataframe thead th {\n",
       "        text-align: right;\n",
       "    }\n",
       "</style>\n",
       "<table border=\"1\" class=\"dataframe\">\n",
       "  <thead>\n",
       "    <tr style=\"text-align: right;\">\n",
       "      <th></th>\n",
       "      <th>id</th>\n",
       "      <th>host_name</th>\n",
       "      <th>host_since</th>\n",
       "    </tr>\n",
       "  </thead>\n",
       "  <tbody>\n",
       "    <tr>\n",
       "      <th>59</th>\n",
       "      <td>503548.0</td>\n",
       "      <td>NaN</td>\n",
       "      <td>NaN</td>\n",
       "    </tr>\n",
       "    <tr>\n",
       "      <th>93</th>\n",
       "      <td>761400.0</td>\n",
       "      <td>NaN</td>\n",
       "      <td>NaN</td>\n",
       "    </tr>\n",
       "    <tr>\n",
       "      <th>160</th>\n",
       "      <td>1436390.0</td>\n",
       "      <td>NaN</td>\n",
       "      <td>NaN</td>\n",
       "    </tr>\n",
       "    <tr>\n",
       "      <th>162</th>\n",
       "      <td>1438437.0</td>\n",
       "      <td>NaN</td>\n",
       "      <td>NaN</td>\n",
       "    </tr>\n",
       "    <tr>\n",
       "      <th>167</th>\n",
       "      <td>1467581.0</td>\n",
       "      <td>NaN</td>\n",
       "      <td>NaN</td>\n",
       "    </tr>\n",
       "  </tbody>\n",
       "</table>\n",
       "</div>"
      ],
      "text/plain": [
       "            id host_name host_since\n",
       "59    503548.0       NaN        NaN\n",
       "93    761400.0       NaN        NaN\n",
       "160  1436390.0       NaN        NaN\n",
       "162  1438437.0       NaN        NaN\n",
       "167  1467581.0       NaN        NaN"
      ]
     },
     "execution_count": 8,
     "metadata": {},
     "output_type": "execute_result"
    }
   ],
   "source": [
    "df_hosts[df_hosts['host_since'].isna()].head()"
   ]
  },
  {
   "cell_type": "markdown",
   "metadata": {
    "cell_id": "00019-00cdca27-2f2a-4773-ab60-3227ad857a5d",
    "deepnote_cell_type": "markdown",
    "tags": []
   },
   "source": [
    "We can use similar logic to filter `df_hosts` (or any other `DataFrame`) to exclude any rows where a particulr column has value `nan`. For example, run the code below to remove `nan` values from `df_hosts`. Note the use of the `~` character to indicate we want to keep rows that are *not* `nan`."
   ]
  },
  {
   "cell_type": "code",
   "execution_count": 9,
   "metadata": {
    "cell_id": "00020-f547c317-f2f7-4e97-9c01-dd168d9799b3",
    "deepnote_cell_type": "code",
    "deepnote_to_be_reexecuted": false,
    "execution_millis": 58655929,
    "execution_start": 1633510502940,
    "source_hash": "7cbe1922",
    "tags": []
   },
   "outputs": [
    {
     "name": "stdout",
     "output_type": "stream",
     "text": [
      "0\n"
     ]
    }
   ],
   "source": [
    "df_hosts = df_hosts[~df_hosts['host_since'].isna()]\n",
    "print(sum(df_hosts['host_since'].isna())) # Explain this check!"
   ]
  },
  {
   "cell_type": "markdown",
   "metadata": {
    "cell_id": "00021-c3c84013-5f8a-4a13-ad79-30ff69f48132",
    "deepnote_cell_type": "markdown",
    "tags": []
   },
   "source": [
    "As well as undefined values, columns might also contain values in a format which is unsuitable for a particular type of analysis. For example, the values in the `host_since` column of `df_hosts` are [strings](https://www.w3schools.com/python/python_strings.asp) and would need to be formated if we wanted to calculate, for example, how long each host has been a host on Airbnb. Run the code below to use the `apply` method to do such a thing."
   ]
  },
  {
   "cell_type": "code",
   "execution_count": 10,
   "metadata": {
    "cell_id": "00022-d3276a55-3115-41e2-bce4-e9e0f988c1ed",
    "deepnote_cell_type": "code",
    "deepnote_to_be_reexecuted": false,
    "execution_millis": 57,
    "execution_start": 1633510502999,
    "source_hash": "1378444b",
    "tags": []
   },
   "outputs": [
    {
     "data": {
      "text/html": [
       "<div>\n",
       "<style scoped>\n",
       "    .dataframe tbody tr th:only-of-type {\n",
       "        vertical-align: middle;\n",
       "    }\n",
       "\n",
       "    .dataframe tbody tr th {\n",
       "        vertical-align: top;\n",
       "    }\n",
       "\n",
       "    .dataframe thead th {\n",
       "        text-align: right;\n",
       "    }\n",
       "</style>\n",
       "<table border=\"1\" class=\"dataframe\">\n",
       "  <thead>\n",
       "    <tr style=\"text-align: right;\">\n",
       "      <th></th>\n",
       "      <th>id</th>\n",
       "      <th>host_name</th>\n",
       "      <th>host_since</th>\n",
       "      <th>host_years_old</th>\n",
       "    </tr>\n",
       "  </thead>\n",
       "  <tbody>\n",
       "    <tr>\n",
       "      <th>0</th>\n",
       "      <td>43039.0</td>\n",
       "      <td>Adriano</td>\n",
       "      <td>2009-10-03</td>\n",
       "      <td>12</td>\n",
       "    </tr>\n",
       "    <tr>\n",
       "      <th>1</th>\n",
       "      <td>54730.0</td>\n",
       "      <td>Alina</td>\n",
       "      <td>2009-11-16</td>\n",
       "      <td>12</td>\n",
       "    </tr>\n",
       "    <tr>\n",
       "      <th>2</th>\n",
       "      <td>60302.0</td>\n",
       "      <td>Philippa</td>\n",
       "      <td>2009-12-05</td>\n",
       "      <td>12</td>\n",
       "    </tr>\n",
       "    <tr>\n",
       "      <th>3</th>\n",
       "      <td>67564.0</td>\n",
       "      <td>Liz</td>\n",
       "      <td>2010-01-04</td>\n",
       "      <td>11</td>\n",
       "    </tr>\n",
       "    <tr>\n",
       "      <th>4</th>\n",
       "      <td>103583.0</td>\n",
       "      <td>Grace</td>\n",
       "      <td>2010-04-05</td>\n",
       "      <td>11</td>\n",
       "    </tr>\n",
       "  </tbody>\n",
       "</table>\n",
       "</div>"
      ],
      "text/plain": [
       "         id host_name  host_since  host_years_old\n",
       "0   43039.0   Adriano  2009-10-03              12\n",
       "1   54730.0     Alina  2009-11-16              12\n",
       "2   60302.0  Philippa  2009-12-05              12\n",
       "3   67564.0       Liz  2010-01-04              11\n",
       "4  103583.0     Grace  2010-04-05              11"
      ]
     },
     "execution_count": 10,
     "metadata": {},
     "output_type": "execute_result"
    }
   ],
   "source": [
    "def host_years_old(host_since):\n",
    "    return(2021 - int(host_since.split('-')[0]))\n",
    "\n",
    "df_hosts['host_years_old'] = df_hosts['host_since'].apply(host_years_old)\n",
    "df_hosts.head()"
   ]
  },
  {
   "cell_type": "markdown",
   "metadata": {
    "cell_id": "00019-e20c32e0-b5c3-4812-a984-c9b0bea765d1",
    "deepnote_cell_type": "markdown",
    "tags": []
   },
   "source": [
    "### Exercise-04: Format price data\n",
    "The `price` column in `df_listings` also contains strings, with currency symbols (e.g.`$`) and commas (e.g. `1,000,000`), and we would need to format these string values to float values before we can use them in analysis. Using the above example as a guide, use the `format_price` function defined below to create a new column `price_$` in `df_listings` which contains a float value version of the price of the listing in $."
   ]
  },
  {
   "cell_type": "code",
   "execution_count": 11,
   "metadata": {
    "cell_id": "00020-eb9fe918-0a82-4f1c-9183-0d6f25a07955",
    "deepnote_cell_type": "code",
    "deepnote_to_be_reexecuted": false,
    "execution_millis": 45,
    "execution_start": 1633510503047,
    "source_hash": "1c897ce6",
    "tags": []
   },
   "outputs": [
    {
     "data": {
      "text/html": [
       "<div>\n",
       "<style scoped>\n",
       "    .dataframe tbody tr th:only-of-type {\n",
       "        vertical-align: middle;\n",
       "    }\n",
       "\n",
       "    .dataframe tbody tr th {\n",
       "        vertical-align: top;\n",
       "    }\n",
       "\n",
       "    .dataframe thead th {\n",
       "        text-align: right;\n",
       "    }\n",
       "</style>\n",
       "<table border=\"1\" class=\"dataframe\">\n",
       "  <thead>\n",
       "    <tr style=\"text-align: right;\">\n",
       "      <th></th>\n",
       "      <th>price</th>\n",
       "      <th>price_$</th>\n",
       "    </tr>\n",
       "  </thead>\n",
       "  <tbody>\n",
       "    <tr>\n",
       "      <th>0</th>\n",
       "      <td>$110.00</td>\n",
       "      <td>110.0</td>\n",
       "    </tr>\n",
       "    <tr>\n",
       "      <th>1</th>\n",
       "      <td>$40.00</td>\n",
       "      <td>40.0</td>\n",
       "    </tr>\n",
       "    <tr>\n",
       "      <th>2</th>\n",
       "      <td>$75.00</td>\n",
       "      <td>75.0</td>\n",
       "    </tr>\n",
       "    <tr>\n",
       "      <th>3</th>\n",
       "      <td>$307.00</td>\n",
       "      <td>307.0</td>\n",
       "    </tr>\n",
       "    <tr>\n",
       "      <th>4</th>\n",
       "      <td>$29.00</td>\n",
       "      <td>29.0</td>\n",
       "    </tr>\n",
       "  </tbody>\n",
       "</table>\n",
       "</div>"
      ],
      "text/plain": [
       "     price  price_$\n",
       "0  $110.00    110.0\n",
       "1   $40.00     40.0\n",
       "2   $75.00     75.0\n",
       "3  $307.00    307.0\n",
       "4   $29.00     29.0"
      ]
     },
     "execution_count": 11,
     "metadata": {},
     "output_type": "execute_result"
    }
   ],
   "source": [
    "def format_price(price):\n",
    "    return(float(price.replace('$','').replace(',','')))\n",
    "\n",
    "# (SOLUTION)\n",
    "df_listings['price_$'] = df_listings['price'].apply(format_price) \n",
    "df_listings[['price','price_$']].head()"
   ]
  },
  {
   "cell_type": "markdown",
   "metadata": {
    "cell_id": "00022-d5421d03-0726-4655-908c-cefc82b7dd34",
    "deepnote_cell_type": "markdown",
    "tags": []
   },
   "source": [
    "## Querying data\n",
    "Once we have loaded and formatted our data *then* the fun times begin! Pandas is great for *querying* `DataFrames` (i.e. filtering a `DataFrame` to create a new `DataFrame` which includes only the data we want!). For example, run the code below to use `df_hosts` to create a new `DataFrame` names `df_hosts_ancient` which contains hosts who have been hosts on Airbnb for more than 10 years."
   ]
  },
  {
   "cell_type": "code",
   "execution_count": 12,
   "metadata": {
    "cell_id": "00026-c0b9c5ce-e0a4-49b7-9a13-c6b75d6e5b28",
    "deepnote_cell_type": "code",
    "deepnote_to_be_reexecuted": false,
    "execution_millis": 53,
    "execution_start": 1633510503088,
    "source_hash": "afe22a14",
    "tags": []
   },
   "outputs": [
    {
     "data": {
      "text/html": [
       "<div>\n",
       "<style scoped>\n",
       "    .dataframe tbody tr th:only-of-type {\n",
       "        vertical-align: middle;\n",
       "    }\n",
       "\n",
       "    .dataframe tbody tr th {\n",
       "        vertical-align: top;\n",
       "    }\n",
       "\n",
       "    .dataframe thead th {\n",
       "        text-align: right;\n",
       "    }\n",
       "</style>\n",
       "<table border=\"1\" class=\"dataframe\">\n",
       "  <thead>\n",
       "    <tr style=\"text-align: right;\">\n",
       "      <th></th>\n",
       "      <th>id</th>\n",
       "      <th>host_name</th>\n",
       "      <th>host_since</th>\n",
       "      <th>host_years_old</th>\n",
       "    </tr>\n",
       "  </thead>\n",
       "  <tbody>\n",
       "    <tr>\n",
       "      <th>0</th>\n",
       "      <td>43039.0</td>\n",
       "      <td>Adriano</td>\n",
       "      <td>2009-10-03</td>\n",
       "      <td>12</td>\n",
       "    </tr>\n",
       "    <tr>\n",
       "      <th>1</th>\n",
       "      <td>54730.0</td>\n",
       "      <td>Alina</td>\n",
       "      <td>2009-11-16</td>\n",
       "      <td>12</td>\n",
       "    </tr>\n",
       "    <tr>\n",
       "      <th>2</th>\n",
       "      <td>60302.0</td>\n",
       "      <td>Philippa</td>\n",
       "      <td>2009-12-05</td>\n",
       "      <td>12</td>\n",
       "    </tr>\n",
       "    <tr>\n",
       "      <th>3</th>\n",
       "      <td>67564.0</td>\n",
       "      <td>Liz</td>\n",
       "      <td>2010-01-04</td>\n",
       "      <td>11</td>\n",
       "    </tr>\n",
       "    <tr>\n",
       "      <th>4</th>\n",
       "      <td>103583.0</td>\n",
       "      <td>Grace</td>\n",
       "      <td>2010-04-05</td>\n",
       "      <td>11</td>\n",
       "    </tr>\n",
       "  </tbody>\n",
       "</table>\n",
       "</div>"
      ],
      "text/plain": [
       "         id host_name  host_since  host_years_old\n",
       "0   43039.0   Adriano  2009-10-03              12\n",
       "1   54730.0     Alina  2009-11-16              12\n",
       "2   60302.0  Philippa  2009-12-05              12\n",
       "3   67564.0       Liz  2010-01-04              11\n",
       "4  103583.0     Grace  2010-04-05              11"
      ]
     },
     "execution_count": 12,
     "metadata": {},
     "output_type": "execute_result"
    }
   ],
   "source": [
    "df_hosts_ancient = df_hosts[df_hosts['host_years_old']>10]\n",
    "df_hosts_ancient.head()"
   ]
  },
  {
   "cell_type": "markdown",
   "metadata": {
    "cell_id": "00023-e9303491-c3d4-4fd3-bb48-ee16497d9156",
    "deepnote_cell_type": "markdown",
    "tags": []
   },
   "source": [
    "### Exercise-05: Identify budget listings\n",
    "Using the above code as a guide, use `df_listings` to create a new `DataFrame` named `df_listings_budget` which contains listings whose price is less than $100."
   ]
  },
  {
   "cell_type": "code",
   "execution_count": 13,
   "metadata": {
    "cell_id": "00024-86121000-3e44-4f2d-b36d-b3829e4eeac3",
    "deepnote_cell_type": "code",
    "deepnote_to_be_reexecuted": false,
    "execution_millis": 52,
    "execution_start": 1633510503133,
    "source_hash": "fd218a0c",
    "tags": []
   },
   "outputs": [
    {
     "data": {
      "text/html": [
       "<div>\n",
       "<style scoped>\n",
       "    .dataframe tbody tr th:only-of-type {\n",
       "        vertical-align: middle;\n",
       "    }\n",
       "\n",
       "    .dataframe tbody tr th {\n",
       "        vertical-align: top;\n",
       "    }\n",
       "\n",
       "    .dataframe thead th {\n",
       "        text-align: right;\n",
       "    }\n",
       "</style>\n",
       "<table border=\"1\" class=\"dataframe\">\n",
       "  <thead>\n",
       "    <tr style=\"text-align: right;\">\n",
       "      <th></th>\n",
       "      <th>host_id</th>\n",
       "      <th>id</th>\n",
       "      <th>name</th>\n",
       "      <th>room_type</th>\n",
       "      <th>price</th>\n",
       "      <th>price_$</th>\n",
       "    </tr>\n",
       "  </thead>\n",
       "  <tbody>\n",
       "    <tr>\n",
       "      <th>1</th>\n",
       "      <td>54730</td>\n",
       "      <td>13913</td>\n",
       "      <td>Holiday London DB Room Let-on going</td>\n",
       "      <td>Private room</td>\n",
       "      <td>$40.00</td>\n",
       "      <td>40.0</td>\n",
       "    </tr>\n",
       "    <tr>\n",
       "      <th>2</th>\n",
       "      <td>60302</td>\n",
       "      <td>15400</td>\n",
       "      <td>Bright Chelsea  Apartment. Chelsea!</td>\n",
       "      <td>Entire home/apt</td>\n",
       "      <td>$75.00</td>\n",
       "      <td>75.0</td>\n",
       "    </tr>\n",
       "    <tr>\n",
       "      <th>4</th>\n",
       "      <td>103583</td>\n",
       "      <td>25123</td>\n",
       "      <td>Clean big Room in London (Room 1)</td>\n",
       "      <td>Private room</td>\n",
       "      <td>$29.00</td>\n",
       "      <td>29.0</td>\n",
       "    </tr>\n",
       "    <tr>\n",
       "      <th>5</th>\n",
       "      <td>144444</td>\n",
       "      <td>33332</td>\n",
       "      <td>Beautiful Ensuite Richmond-upon-Thames borough</td>\n",
       "      <td>Private room</td>\n",
       "      <td>$65.00</td>\n",
       "      <td>65.0</td>\n",
       "    </tr>\n",
       "    <tr>\n",
       "      <th>7</th>\n",
       "      <td>157884</td>\n",
       "      <td>36660</td>\n",
       "      <td>You are GUARANTEED to love this</td>\n",
       "      <td>Private room</td>\n",
       "      <td>$72.00</td>\n",
       "      <td>72.0</td>\n",
       "    </tr>\n",
       "  </tbody>\n",
       "</table>\n",
       "</div>"
      ],
      "text/plain": [
       "   host_id     id                                            name  \\\n",
       "1    54730  13913             Holiday London DB Room Let-on going   \n",
       "2    60302  15400             Bright Chelsea  Apartment. Chelsea!   \n",
       "4   103583  25123               Clean big Room in London (Room 1)   \n",
       "5   144444  33332  Beautiful Ensuite Richmond-upon-Thames borough   \n",
       "7   157884  36660                 You are GUARANTEED to love this   \n",
       "\n",
       "         room_type   price  price_$  \n",
       "1     Private room  $40.00     40.0  \n",
       "2  Entire home/apt  $75.00     75.0  \n",
       "4     Private room  $29.00     29.0  \n",
       "5     Private room  $65.00     65.0  \n",
       "7     Private room  $72.00     72.0  "
      ]
     },
     "execution_count": 13,
     "metadata": {},
     "output_type": "execute_result"
    }
   ],
   "source": [
    "# (SOLUTION)\n",
    "df_listings_budget = df_listings[df_listings['price_$']<100]\n",
    "df_listings_budget.head()"
   ]
  },
  {
   "cell_type": "markdown",
   "metadata": {
    "cell_id": "00029-f279bf61-891f-4f0a-8593-afbe6921d5f7",
    "deepnote_cell_type": "markdown",
    "tags": []
   },
   "source": [
    "## Inspect the code\n",
    "Have a play around with above code. If the notebooks breaks, then just restart it.\n",
    "\n",
    "When you feel confident with the code in this notebook, then try `02-Advanced.ipynb`."
   ]
  },
  {
   "cell_type": "markdown",
   "metadata": {
    "created_in_deepnote_cell": true,
    "deepnote_cell_type": "markdown",
    "tags": []
   },
   "source": [
    "<a style='text-decoration:none;line-height:16px;display:flex;color:#5B5B62;padding:10px;justify-content:end;' href='https://deepnote.com?utm_source=created-in-deepnote-cell&projectId=2c6f047c-21a6-4149-814c-b3f60a9bf973' target=\"_blank\">\n",
    "<img alt='Created in deepnote.com' style='display:inline;max-height:16px;margin:0px;margin-right:7.5px;' src='data:image/svg+xml;base64,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' > </img>\n",
    "Created in <span style='font-weight:600;margin-left:4px;'>Deepnote</span></a>"
   ]
  }
 ],
 "metadata": {
  "deepnote": {
   "is_reactive": false
  },
  "deepnote_execution_queue": [],
  "deepnote_notebook_id": "a3448935-844e-4a3d-8582-74593158806f",
  "kernelspec": {
   "display_name": "Python 3 (ipykernel)",
   "language": "python",
   "name": "python3"
  },
  "language_info": {
   "codemirror_mode": {
    "name": "ipython",
    "version": 3
   },
   "file_extension": ".py",
   "mimetype": "text/x-python",
   "name": "python",
   "nbconvert_exporter": "python",
   "pygments_lexer": "ipython3",
   "version": "3.7.9"
  }
 },
 "nbformat": 4,
 "nbformat_minor": 2
}
