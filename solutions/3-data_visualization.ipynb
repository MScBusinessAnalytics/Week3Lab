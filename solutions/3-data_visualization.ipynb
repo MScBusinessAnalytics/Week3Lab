{
 "cells": [
  {
   "cell_type": "markdown",
   "metadata": {
    "cell_id": "00000-cd14a2b9-8a6f-4690-9457-5f5995338df6",
    "deepnote_cell_type": "markdown",
    "tags": []
   },
   "source": [
    "## Making basic plots - Lines, bars, pies, and scatterplots"
   ]
  },
  {
   "cell_type": "markdown",
   "metadata": {
    "cell_id": "00001-9463a7e8-ef49-4d86-a3fe-9348137f44b6",
    "deepnote_cell_type": "code",
    "deepnote_to_be_reexecuted": false,
    "execution_millis": 58657026,
    "execution_start": 1633510501425,
    "source_hash": "9b82ee11",
    "tags": []
   },
   "source": [
    "This exercise introduces the basics of data visualization in Python. It is in line with our lecture from last week, which was about data visualization and descriptive analytics. Please refer to Blackboard to watch the recording for a refresher."
   ]
  },
  {
   "cell_type": "markdown",
   "metadata": {
    "cell_id": "00002-b05b3b8a-07f3-4c30-9165-fe7ba2820661",
    "deepnote_cell_type": "markdown",
    "tags": []
   },
   "source": [
    "## Import necessary libraries\n",
    "Just as with the previous exercise, python uses certain packages to create plots. The key such package is the `matplotlib` package and this library must be imported prior to creating the plots. Run the code below to import these required packages so we can commence creating basic plots in python."
   ]
  },
  {
   "cell_type": "code",
   "execution_count": 5,
   "metadata": {
    "cell_id": "00003-59fe9947-e87c-4b18-930a-f0ea44c1def7",
    "deepnote_cell_type": "code",
    "deepnote_to_be_reexecuted": false,
    "execution_millis": 12,
    "execution_start": 1633510501468,
    "source_hash": "459b66d0",
    "tags": []
   },
   "outputs": [
    {
     "name": "stdout",
     "output_type": "stream",
     "text": [
      "Requirement already satisfied: matplotlib in c:\\users\\oh22781\\anaconda3\\lib\\site-packages (3.5.1)\n",
      "Requirement already satisfied: pillow>=6.2.0 in c:\\users\\oh22781\\anaconda3\\lib\\site-packages (from matplotlib) (9.0.1)\n",
      "Requirement already satisfied: pyparsing>=2.2.1 in c:\\users\\oh22781\\anaconda3\\lib\\site-packages (from matplotlib) (3.0.4)\n",
      "Requirement already satisfied: kiwisolver>=1.0.1 in c:\\users\\oh22781\\anaconda3\\lib\\site-packages (from matplotlib) (1.3.2)\n",
      "Requirement already satisfied: fonttools>=4.22.0 in c:\\users\\oh22781\\anaconda3\\lib\\site-packages (from matplotlib) (4.25.0)\n",
      "Requirement already satisfied: cycler>=0.10 in c:\\users\\oh22781\\anaconda3\\lib\\site-packages (from matplotlib) (0.11.0)\n",
      "Requirement already satisfied: packaging>=20.0 in c:\\users\\oh22781\\anaconda3\\lib\\site-packages (from matplotlib) (21.3)\n",
      "Requirement already satisfied: numpy>=1.17 in c:\\users\\oh22781\\anaconda3\\lib\\site-packages (from matplotlib) (1.21.5)\n",
      "Requirement already satisfied: python-dateutil>=2.7 in c:\\users\\oh22781\\anaconda3\\lib\\site-packages (from matplotlib) (2.8.2)\n",
      "Requirement already satisfied: six>=1.5 in c:\\users\\oh22781\\anaconda3\\lib\\site-packages (from python-dateutil>=2.7->matplotlib) (1.16.0)\n"
     ]
    }
   ],
   "source": [
    "!pip install matplotlib\n",
    "%matplotlib inline\n",
    "import matplotlib.pyplot as plt\n",
    "import numpy as np\n",
    "import pandas as pd"
   ]
  },
  {
   "cell_type": "markdown",
   "metadata": {
    "cell_id": "00004-f6c9f591-859c-49e2-b176-2983cbb93b2b",
    "deepnote_cell_type": "markdown",
    "tags": []
   },
   "source": [
    "## Line Plots\n",
    "\n",
    "**Purpose:** The purpose of line plots is to show trends in data -- typically time series data with many time points. We can create this using the `matplotlib (plot)` function. The `plot(x,y)` function has:\n",
    "* `x`: The x-coordinates of the lines or markers.\n",
    "* `y`: The y-coordinates of the lines or markers.\n",
    "\n",
    "Run the below code to create a simple plot. "
   ]
  },
  {
   "cell_type": "code",
   "execution_count": null,
   "metadata": {
    "cell_id": "00005-34c55a85-e161-4660-8737-9feed320a8e6",
    "deepnote_cell_type": "markdown",
    "tags": []
   },
   "outputs": [],
   "source": [
    "x = np.linspace(0, 20)\n",
    "y1 = np.sin(x)\n",
    "y2 = np.sin(x - np.pi)\n",
    "\n",
    "plt.figure()\n",
    "\n",
    "plt.plot(x, y1)\n",
    "plt.plot(x, y2)\n",
    ";"
   ]
  },
  {
   "cell_type": "markdown",
   "metadata": {
    "cell_id": "00006-67536e63-1e63-420e-a63f-e498cb14682c",
    "deepnote_cell_type": "code",
    "deepnote_to_be_reexecuted": false,
    "execution_millis": 65,
    "execution_start": 1633510501470,
    "source_hash": "93a6ce11",
    "tags": []
   },
   "source": [
    "### Commonly used parameters:\n",
    "\n",
    "* `color`: Set the color of the line.\n",
    "\n",
    "* `linestyle`: Set the line style, e.g., solid, dashed, or none.\n",
    "\n",
    "* `linewidth`: Set the line thickness.\n",
    "\n",
    "* `marker`: Set the marker style, e.g., circles, triangles, or none.\n",
    "\n",
    "* `markersize`: Set the marker size.\n",
    "\n",
    "* `label`: Set the label for the line that will show up in the legend.\n",
    "\n",
    "Try setting some parameters in the below code. "
   ]
  },
  {
   "cell_type": "markdown",
   "metadata": {
    "cell_id": "00007-0248b9cd-89b9-4327-b36a-612071ee792e",
    "deepnote_cell_type": "markdown",
    "tags": []
   },
   "source": [
    "### Setting Plot Parameters  \n",
    "Run the code below to create the previous plot but with a `black` colour for `y1` and `red` for `y2`."
   ]
  },
  {
   "cell_type": "code",
   "execution_count": null,
   "metadata": {
    "cell_id": "00008-b8617cee-ecb8-4827-9d45-cea4901e50d0",
    "deepnote_cell_type": "code",
    "deepnote_to_be_reexecuted": false,
    "execution_millis": 1,
    "execution_start": 1633510501536,
    "source_hash": "3b0213f1",
    "tags": []
   },
   "outputs": [],
   "source": [
    "x = np.linspace(0, 20)\n",
    "y1 = np.sin(x)\n",
    "y2 = np.sin(x - np.pi)\n",
    "\n",
    "plt.figure()\n",
    "\n",
    "plt.plot(x,y1,color='black',\n",
    "         linestyle='-',\n",
    "         linewidth=2,\n",
    "         marker='s',\n",
    "         markersize=6,\n",
    "         label='y1')\n",
    "\n",
    "plt.plot(x,\n",
    "         y2,\n",
    "         color='gray',\n",
    "         linestyle='--',\n",
    "         linewidth=2,\n",
    "         marker='^',\n",
    "         markersize=6,\n",
    "         label='y2')\n",
    "\n",
    "plt.legend()\n",
    ";"
   ]
  },
  {
   "cell_type": "markdown",
   "metadata": {
    "cell_id": "00009-2785d7f1-f41a-43e9-9f4d-fe05b6ac259d",
    "deepnote_cell_type": "markdown",
    "tags": []
   },
   "source": [
    "## Vertical Barcharts"
   ]
  },
  {
   "cell_type": "markdown",
   "metadata": {
    "cell_id": "00010-3eaf395d-cd3e-4f5d-83ba-364159146ab4",
    "deepnote_cell_type": "code",
    "deepnote_to_be_reexecuted": false,
    "execution_millis": 805,
    "execution_start": 1633510501538,
    "source_hash": "95261650",
    "tags": []
   },
   "source": [
    "**Purpose:** Comparing categories OR showing temporal trends in data with few (< 4) time points.\n",
    "\n",
    "**matplotlib function**: `bar(left, height)`\n",
    "\n",
    "* `left`: The x coordinate(s) of the left sides of the bars.\n",
    "\n",
    "* `height`: The height(s) of the bars."
   ]
  },
  {
   "cell_type": "code",
   "execution_count": null,
   "metadata": {
    "cell_id": "00011-02636c07-9ec6-4270-8fee-193ea4139cab",
    "deepnote_cell_type": "markdown",
    "tags": []
   },
   "outputs": [],
   "source": [
    "years = np.arange(2018, 2022)\n",
    "values = [2, 5, 9, 6]\n",
    "\n",
    "plt.figure()\n",
    "\n",
    "plt.bar(years, values)\n",
    ";"
   ]
  },
  {
   "cell_type": "markdown",
   "metadata": {
    "cell_id": "00012-44adb987-bc9a-4e75-a1f7-f8f02306e2a9",
    "deepnote_cell_type": "markdown",
    "tags": []
   },
   "source": [
    "**Commonly used parameters:**\n",
    "* `color`: Set the color of the bars.\n",
    "\n",
    "* `edgecolor`: Set the color of the lines on the edges of the bars.\n",
    "\n",
    "* `width`: Set the width of the bars.\n",
    "\n",
    "* `align`: Set the alignment of the bars, e.g., center them on the x coordinate(s).\n",
    "\n",
    "* `label`: Set the label for the bar that will show up in the legend.\n",
    "\n",
    "Run the below code to see these parameters in action."
   ]
  },
  {
   "cell_type": "code",
   "execution_count": null,
   "metadata": {
    "cell_id": "00013-571dca19-a769-456c-b286-7d77ebcac8c6",
    "deepnote_cell_type": "code",
    "deepnote_to_be_reexecuted": false,
    "execution_millis": 414,
    "execution_start": 1633510502351,
    "source_hash": "f61d5314",
    "tags": []
   },
   "outputs": [],
   "source": [
    "years = np.arange(2018, 2022)\n",
    "category1_values = [2, 5, 9, 6]\n",
    "category2_values = [7, 6, 3, 8]\n",
    "\n",
    "plt.figure()\n",
    "\n",
    "plt.bar(years - 0.2,\n",
    "        category1_values,\n",
    "        color='blue',\n",
    "        edgecolor='none',\n",
    "        width=0.4,\n",
    "        align='center',\n",
    "        label='Male')\n",
    "\n",
    "plt.bar(years + 0.2,\n",
    "        category2_values,\n",
    "        color='orange',\n",
    "        edgecolor='none',\n",
    "        width=0.4,\n",
    "        align='center',\n",
    "        label='Female')\n",
    "\n",
    "plt.xticks(years, [str(year) for year in years])\n",
    "\n",
    "plt.legend()\n",
    ";"
   ]
  },
  {
   "cell_type": "markdown",
   "metadata": {
    "cell_id": "00014-662dddb1-afb5-4829-8008-87842e34e71b",
    "deepnote_cell_type": "markdown",
    "tags": []
   },
   "source": [
    "## Horizontal Barchart\n",
    "\n",
    "**Purpose:** for comparing categories.\n",
    "**matplotlib function:** `barh(bottom, width)`\n",
    "\n",
    "* `bottom`: The y coordinate(s) of the bars.\n",
    "\n",
    "* `width`: The width(s) of the bars."
   ]
  },
  {
   "cell_type": "code",
   "execution_count": null,
   "metadata": {
    "cell_id": "00015-d3fb7183-c343-4156-be32-06cbf9158fdd",
    "deepnote_cell_type": "markdown",
    "tags": []
   },
   "outputs": [],
   "source": [
    "categories = ['Accounting', 'Business', 'Chemistry', 'Dentistry', 'Engineering']\n",
    "values = [7, 12, 4, 2, 9]\n",
    "\n",
    "plt.figure()\n",
    "\n",
    "plt.barh(np.arange(len(categories)), values)\n",
    "\n",
    "plt.yticks(np.arange(len(categories)),\n",
    "           ['{}'.format(x) for x in categories])\n",
    "\n",
    ";"
   ]
  },
  {
   "cell_type": "markdown",
   "metadata": {
    "cell_id": "00016-c5cb6122-2dc8-491d-968b-c5501ed13917",
    "deepnote_cell_type": "code",
    "deepnote_to_be_reexecuted": false,
    "execution_millis": 121,
    "execution_start": 1633510502761,
    "source_hash": "b56348a0",
    "tags": []
   },
   "source": [
    "What if we want to change the ordering of the bars? Try the code below and explain what happens."
   ]
  },
  {
   "cell_type": "code",
   "execution_count": null,
   "metadata": {
    "cell_id": "00017-536c8a81-df57-4de5-8736-9fceb39b74ee",
    "deepnote_cell_type": "markdown",
    "tags": []
   },
   "outputs": [],
   "source": [
    "categories = ['Accounting', 'Business', 'Chemistry', 'Dentistry', 'Engineering']\n",
    "values = [7, 12, 4, 2, 9]\n",
    "\n",
    "plt.figure()\n",
    "\n",
    "plt.barh(-np.arange(len(categories)), values)\n",
    "\n",
    "plt.yticks(-np.arange(len(categories)),\n",
    "           ['{}'.format(x) for x in categories])\n",
    ";"
   ]
  },
  {
   "cell_type": "markdown",
   "metadata": {
    "cell_id": "00018-b902f5e6-c807-4210-93c4-fbc21da15e2e",
    "deepnote_cell_type": "code",
    "deepnote_to_be_reexecuted": false,
    "execution_millis": 52,
    "execution_start": 1633510502878,
    "source_hash": "ee385073",
    "tags": []
   },
   "source": [
    "**Commonly used parameters:**\n",
    "\n",
    "* `color`: Set the color of the bars.\n",
    "\n",
    "* `edgecolor`: Set the color of the lines on the edges of the bars.\n",
    "\n",
    "* `height`: Set the height of the bars.\n",
    "\n",
    "* `align`: Set the alignment of the bars, e.g., center them on the y coordinate(s)."
   ]
  },
  {
   "cell_type": "code",
   "execution_count": null,
   "metadata": {
    "cell_id": "00019-00cdca27-2f2a-4773-ab60-3227ad857a5d",
    "deepnote_cell_type": "markdown",
    "tags": []
   },
   "outputs": [],
   "source": [
    "categories = ['Accounting', 'Business', 'Chemistry', 'Dentistry', 'Engineering']\n",
    "values = [7, 12, 4, 2, 9]\n",
    "\n",
    "plt.figure()\n",
    "\n",
    "plt.barh(-np.arange(len(categories)),\n",
    "         values,\n",
    "         color='blue',\n",
    "         edgecolor='none',\n",
    "         height=0.6,\n",
    "         align='center')\n",
    "\n",
    "plt.yticks(-np.arange(len(categories)),\n",
    "           ['{}'.format(x) for x in categories])\n",
    ";"
   ]
  },
  {
   "cell_type": "markdown",
   "metadata": {
    "cell_id": "00020-f547c317-f2f7-4e97-9c01-dd168d9799b3",
    "deepnote_cell_type": "code",
    "deepnote_to_be_reexecuted": false,
    "execution_millis": 58655929,
    "execution_start": 1633510502940,
    "source_hash": "7cbe1922",
    "tags": []
   },
   "source": [
    "## Pie charts\n",
    "\n",
    "**Purpose:** Displaying a simple proportion.\n",
    "\n",
    "**matplotlib function:** pie(sizes)\n",
    "\n",
    "* `sizes`: The size of the wedges as either a fraction or number."
   ]
  },
  {
   "cell_type": "code",
   "execution_count": null,
   "metadata": {
    "cell_id": "00021-c3c84013-5f8a-4a13-ad79-30ff69f48132",
    "deepnote_cell_type": "markdown",
    "tags": []
   },
   "outputs": [],
   "source": [
    "counts = [17, 14]\n",
    "\n",
    "plt.figure()\n",
    "\n",
    "plt.pie(counts)\n",
    ";"
   ]
  },
  {
   "cell_type": "markdown",
   "metadata": {
    "cell_id": "00022-d3276a55-3115-41e2-bce4-e9e0f988c1ed",
    "deepnote_cell_type": "code",
    "deepnote_to_be_reexecuted": false,
    "execution_millis": 57,
    "execution_start": 1633510502999,
    "source_hash": "1378444b",
    "tags": []
   },
   "source": [
    "**Commonly used parameters:**\n",
    "\n",
    "* `colors`: Set the colors of the wedges.\n",
    "\n",
    "* `labels`: Set the labels of the wedges.\n",
    "\n",
    "* `startangle`: Set the angle that the wedges start at.\n",
    "\n",
    "* `autopct`: Set the percentage display format of the wedges."
   ]
  },
  {
   "cell_type": "code",
   "execution_count": null,
   "metadata": {
    "cell_id": "00019-e20c32e0-b5c3-4812-a984-c9b0bea765d1",
    "deepnote_cell_type": "markdown",
    "tags": []
   },
   "outputs": [],
   "source": [
    "counts = [17, 14]\n",
    "\n",
    "plt.figure(figsize=(4, 4))\n",
    "\n",
    "plt.pie(counts,\n",
    "        colors=['blue', 'orange'],\n",
    "        labels=['Category A', 'Other categories'],\n",
    "        startangle=90,\n",
    "        autopct='%1.1f%%')\n",
    ";"
   ]
  },
  {
   "cell_type": "markdown",
   "metadata": {
    "cell_id": "00020-eb9fe918-0a82-4f1c-9183-0d6f25a07955",
    "deepnote_cell_type": "code",
    "deepnote_to_be_reexecuted": false,
    "execution_millis": 45,
    "execution_start": 1633510503047,
    "source_hash": "1c897ce6",
    "tags": []
   },
   "source": [
    "## Scatter plots\n",
    "\n",
    "**Purpose:** Displaying relationships between variables.\n",
    "\n",
    "**matplotlib function:** scatter(x, y)\n",
    "\n",
    "* `x, y`: The values for the two variables."
   ]
  },
  {
   "cell_type": "markdown",
   "metadata": {
    "cell_id": "00022-d5421d03-0726-4655-908c-cefc82b7dd34",
    "deepnote_cell_type": "markdown",
    "tags": []
   },
   "source": [
    "## Querying data\n",
    "Once we have loaded and formatted our data *then* the fun times begin! Pandas is great for *querying* `DataFrames` (i.e. filtering a `DataFrame` to create a new `DataFrame` which includes only the data we want!). For example, run the code below to use `df_hosts` to create a new `DataFrame` names `df_hosts_ancient` which contains hosts who have been hosts on Airbnb for more than 10 years."
   ]
  },
  {
   "cell_type": "code",
   "execution_count": null,
   "metadata": {
    "cell_id": "00026-c0b9c5ce-e0a4-49b7-9a13-c6b75d6e5b28",
    "deepnote_cell_type": "code",
    "deepnote_to_be_reexecuted": false,
    "execution_millis": 53,
    "execution_start": 1633510503088,
    "source_hash": "afe22a14",
    "tags": []
   },
   "outputs": [],
   "source": [
    "df_hosts_ancient = df_hosts[df_hosts['host_years_old']>10]\n",
    "df_hosts_ancient.head()"
   ]
  },
  {
   "cell_type": "code",
   "execution_count": null,
   "metadata": {
    "cell_id": "00023-e9303491-c3d4-4fd3-bb48-ee16497d9156",
    "deepnote_cell_type": "markdown",
    "tags": []
   },
   "outputs": [],
   "source": [
    "x = range(20)\n",
    "y = np.arange(50, 70) + (np.random.random(20) * 10.)\n",
    "\n",
    "plt.figure()\n",
    "\n",
    "plt.scatter(x, y)\n",
    ";"
   ]
  },
  {
   "cell_type": "markdown",
   "metadata": {},
   "source": [
    "**Commonly used parameters:**\n",
    "\n",
    "* `c`: Set the color of the markers.\n",
    "\n",
    "* `s`: Set the size of the markers.\n",
    "\n",
    "* `marker`: Set the marker style, e.g., circles, triangles, or squares.\n",
    "\n",
    "* `edgecolor`: Set the color of the lines on the edges of the markers.\n",
    "\n",
    "\n",
    "In the lab of last week, we plotted a scatter chart for using `monthly_sales.csv`. The data from Product A and Product D were as summarised in the spreadsheet. Using python, plot a scatter plot to visualize the relationship between the two product (A and D) monthly sales. \n",
    "\n"
   ]
  },
  {
   "cell_type": "code",
   "execution_count": 11,
   "metadata": {
    "cell_id": "00024-86121000-3e44-4f2d-b36d-b3829e4eeac3",
    "deepnote_cell_type": "code",
    "deepnote_to_be_reexecuted": false,
    "execution_millis": 52,
    "execution_start": 1633510503133,
    "source_hash": "fd218a0c",
    "tags": []
   },
   "outputs": [
    {
     "data": {
      "text/plain": [
       "[<matplotlib.lines.Line2D at 0x26c226cfeb0>]"
      ]
     },
     "execution_count": 11,
     "metadata": {},
     "output_type": "execute_result"
    },
    {
     "data": {
      "image/png": "[encoded data removed]",
      "text/plain": [
       "<Figure size 432x288 with 1 Axes>"
      ]
     },
     "metadata": {
      "needs_background": "light"
     },
     "output_type": "display_data"
    }
   ],
   "source": [
    "# (SOLUTION)\n",
    "df_sales = pd.read_csv('../data/monthly_sales.csv', usecols=['Product A', 'Product D'])\n",
    "#inspect data\n",
    "df_sales.head()\n",
    "#plot scatter chart\n",
    "plt.figure()\n",
    "plt.scatter(df_sales['Product A'], df_sales['Product D'])\n",
    "#include line of best fit using polyfit function \n",
    "a,b = np.polyfit(df_sales['Product A'], df_sales['Product D'], 1)\n",
    "x = df_sales['Product A']\n",
    "plt.plot(x, a*x+b)\n",
    ";"
   ]
  },
  {
   "cell_type": "markdown",
   "metadata": {
    "cell_id": "00029-f279bf61-891f-4f0a-8593-afbe6921d5f7",
    "deepnote_cell_type": "markdown",
    "tags": []
   },
   "source": [
    "## Box plots\n",
    "\n",
    "**Purpose:** Summarize the distribution of a data column.\n",
    "\n",
    "**matplotlib function:** boxplot(x)\n",
    "\n",
    "* `x`: List of values (or list of lists of values) to display the distribution of."
   ]
  },
  {
   "cell_type": "code",
   "execution_count": null,
   "metadata": {},
   "outputs": [],
   "source": [
    "two_columns_data = [np.random.normal(57, 3, 1000),\n",
    "                    np.random.normal(42, 7, 1000)]\n",
    "\n",
    "plt.boxplot(two_columns_data)\n",
    ";"
   ]
  },
  {
   "cell_type": "markdown",
   "metadata": {
    "created_in_deepnote_cell": true,
    "deepnote_cell_type": "markdown",
    "tags": []
   },
   "source": [
    "<a style='text-decoration:none;line-height:16px;display:flex;color:#5B5B62;padding:10px;justify-content:end;' href='https://deepnote.com?utm_source=created-in-deepnote-cell&projectId=2c6f047c-21a6-4149-814c-b3f60a9bf973' target=\"_blank\">\n",
    "<img alt='Created in deepnote.com' style='display:inline;max-height:16px;margin:0px;margin-right:7.5px;' src='data:image/svg+xml;base64,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' > </img>\n",
    "Created in <span style='font-weight:600;margin-left:4px;'>Deepnote</span></a>"
   ]
  },
  {
   "cell_type": "markdown",
   "metadata": {},
   "source": [
    "**Commonly used parameters:**\n",
    "\n",
    "* `labels`: Set the labels for the box plots.\n",
    "\n",
    "* `notch`: Indicate whether notches should be created around the median.\n",
    "\n",
    "* `bootstrap`: Indicate whether the notches around the median should be bootstrapped."
   ]
  },
  {
   "cell_type": "markdown",
   "metadata": {},
   "source": [
    "## Subplots\n",
    "\n",
    "**Purpose:** Allows you to place multiple charts in a figure.\n",
    "\n",
    "**matplotlib function:** subplot(nrows, ncols, plot_number)\n",
    "\n",
    "* `nrows`: The number of rows in the figure.\n",
    "\n",
    "* `ncols`: The number of columns in the figure.\n",
    "\n",
    "* `plot_number`: The placement of the chart (starts at 1)."
   ]
  },
  {
   "cell_type": "code",
   "execution_count": null,
   "metadata": {},
   "outputs": [],
   "source": [
    "plt.figure()\n",
    "\n",
    "for i in range(1, 7):\n",
    "    plt.subplot(3, 2, i)\n",
    "    plt.title(i)\n",
    "    plt.xticks([])\n",
    "    plt.yticks([])\n",
    "\n",
    "plt.tight_layout()\n",
    ";"
   ]
  },
  {
   "cell_type": "code",
   "execution_count": null,
   "metadata": {},
   "outputs": [],
   "source": [
    "dist1 = np.random.normal(42, 7, 1000)\n",
    "dist2 = np.random.normal(59, 3, 1000)\n",
    "\n",
    "plt.figure(figsize=(10, 4))\n",
    "\n",
    "plt.subplot(1, 2, 1)\n",
    "plt.hist(dist1)\n",
    "plt.title('Distribution 1')\n",
    "\n",
    "plt.subplot(1, 2, 2)\n",
    "plt.scatter(dist2, dist1)\n",
    "plt.xlabel('Distribution 2')\n",
    "plt.ylabel('Distribution 1')\n",
    "\n",
    "plt.tight_layout()\n",
    ";"
   ]
  },
  {
   "cell_type": "code",
   "execution_count": null,
   "metadata": {},
   "outputs": [],
   "source": []
  }
 ],
 "metadata": {
  "deepnote": {
   "is_reactive": false
  },
  "deepnote_execution_queue": [],
  "deepnote_notebook_id": "a3448935-844e-4a3d-8582-74593158806f",
  "kernelspec": {
   "display_name": "Python 3 (ipykernel)",
   "language": "python",
   "name": "python3"
  },
  "language_info": {
   "codemirror_mode": {
    "name": "ipython",
    "version": 3
   },
   "file_extension": ".py",
   "mimetype": "text/x-python",
   "name": "python",
   "nbconvert_exporter": "python",
   "pygments_lexer": "ipython3",
   "version": "3.9.12"
  }
 },
 "nbformat": 4,
 "nbformat_minor": 2
}
